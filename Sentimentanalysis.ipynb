{
 "cells": [
  {
   "cell_type": "code",
   "execution_count": 1,
   "id": "a35fcddb-f144-4730-867d-8fb9fcd72e5a",
   "metadata": {},
   "outputs": [],
   "source": [
    "from transformers import AutoTokenizer, AutoModelForSequenceClassification\n",
    "import torch\n",
    "import requests\n",
    "from bs4 import BeautifulSoup\n",
    "import numpy as np\n",
    "import pandas as pd\n",
    "import seaborn as sns\n",
    "import matplotlib.pyplot as plt\n",
    "import re\n",
    "import streamlit as st"
   ]
  },
  {
   "cell_type": "code",
   "execution_count": 2,
   "id": "7155d46c-0c87-4255-a049-44b1dcf54138",
   "metadata": {},
   "outputs": [],
   "source": [
    "tokenizer = AutoTokenizer.from_pretrained('nlptown/bert-base-multilingual-uncased-sentiment')\n",
    "model = AutoModelForSequenceClassification.from_pretrained('nlptown/bert-base-multilingual-uncased-sentiment')\n"
   ]
  },
  {
   "cell_type": "code",
   "execution_count": 15,
   "id": "83d88796-aee5-4b9a-aa37-23d18274a7c7",
   "metadata": {},
   "outputs": [],
   "source": [
    "url = \"https://www.amazon.com/dp/B01H6GUCCQ/ref=sspa_dk_detail_1?psc=1&pd_rd_i=B01H6GUCCQ&pd_rd_w=Ryp70&content-id=amzn1.sym.386c274b-4bfe-4421-9052-a1a56db557ab&pf_rd_p=386c274b-4bfe-4421-9052-a1a56db557ab&pf_rd_r=7S4JN2J8XRB457MVFEZ6&pd_rd_wg=dTdGG&pd_rd_r=284831c3-a186-4b0e-8f27-59bf3b749656&s=electronics&sp_csd=d2lkZ2V0TmFtZT1zcF9kZXRhaWxfdGhlbWF0aWM\""
   ]
  },
  {
   "cell_type": "code",
   "execution_count": 16,
   "id": "ac36e12c-0881-4d46-babd-0d9c618e6fb7",
   "metadata": {},
   "outputs": [
    {
     "data": {
      "text/plain": [
       "[\"\\nI got this in a rush when I needed a new headset. In hindsight a bit more research would have had me getting something else. As a precursor to the review I feel that it is worth noting that I am very rough on audio peripherals. I don't know why, but they usually last me about 6 months regardless of the quality and price. This is why I choose to buy at a cheaper price point more frequently rather than high-end less frequently.Pros:Price for the quality is greatDecent speaker/mic soundGood quality cable that is at least 6' longSits comfortably on the headStereo/mic to separate stereo and mic connector includedIn-line mic mute switch and audio volume adjustmentCons:The USB is only a power source for the blue lights on the headset (it is a bit misleading in its uses, but if I had researched it a bit more I would have found this out before purchase)The in-line mute and volume knob would be better with a mic gain knob as wellIt tends to make my head a bit sweaty (I have long hair and live in South Texas, US. So it is hard to find headsets that don't do that, but still something to keep in mind)The headset only goes on one way (The traditional right and left side is enforced by the mic only being usable one way. I know I am in the minority, but I like the mic being on the right side of my head)So this is absolutely worth the money, but if you are looking for a high-end headset this is not it. I know my cons were a bit nit picky, and I don't want anyone to think that I regret this purchase. I knew I was getting a quick solution to needing a headset, and I honestly got more than I was looking for. The USB lighting, while completely useless, is a cool addition. The only reason it didn't make it into the pros section is because unless you want to look cool on stream it is wasted resources.So, yea. If you want a good quality headset for a good price this is great for you.\\n\",\n",
       " \"\\nAs an avid gamer who values both performance and comfort, finding the right gaming headset can make or break the gaming experience. Enter the BENGOO Gaming Headsetâ€”a true contender that has exceeded my expectations in every aspect.Let's start with the most crucial aspect for any gaming headset: sound quality. The BENGOO Gaming Headset delivers immersive, crystal-clear audio that transports you straight into the heart of the action. Whether you're traversing the battlefield in a first-person shooter or immersing yourself in the atmospheric world of a role-playing game, every sound is rendered with remarkable clarity and precision, allowing you to hear even the faintest footsteps of your adversaries.Comfort is another standout feature of the BENGOO Gaming Headset. With its ergonomic design and plush, memory foam ear cushions, it provides hours of gaming comfort without causing discomfort or fatigue. The adjustable headband ensures a perfect fit for heads of all sizes, while the lightweight construction minimizes strain during extended gaming sessionsâ€”ensuring you stay focused and immersed in the game without distractions.But what truly sets the BENGOO Gaming Headset apart is its versatility. Equipped with a detachable noise-canceling microphone, it allows for clear communication with teammates and friends, ensuring seamless coordination during intense multiplayer matches. The microphone's flexibility and adjustability make it easy to position for optimal voice clarity, while the mute function adds convenience during moments when silence is golden.\\n\",\n",
       " '\\nThese are both the best and worst of gaming headphones. I have bought a lot of headphones over the years and these have the best sound quality for gaming I have experienced - even on a budget. Great balance of bass and treble - nice great frequency range and sensitivity. You will get both the bass in music but also hear light footsteps.I am actually on my 3rd set if these headphones. The headphones seem to last for sound output. But the mic ALWAYS breaks. My last one broke after a few months of usage. Not sure why it is but it is always the Mic that goes.But if you are reading this and are a minority, you know how toxic the gaming community is. Give W/M anonymity and freedom from restraint and itâ€™s gonna get ugly.  Muting everyone and having a broken mic can be healthy too. Just kinda sucks when playing with RL friends.\\n',\n",
       " \"\\nMy package arrived on time and undamaged. The headphones are excellent for the price. The noise cancellation feature isn't the greatest, but this isn't a reason I wanted headphones anyway. The sound quality is great, and the material is pretty durable. Overall, it's a great product and I'm satisfied with my purchase.\\n\",\n",
       " '\\nHonestly these are really good. They are very comparable to the more expensive brands. The sound quality is nice and they are very comfy\\n',\n",
       " '\\nThe headphones work pretty good but to have them light up, you have to keep them plugged in which is a little annoying. Also, the headphones sometimes get disconnected causing the sound to play from the tv instead and my mic cuts out a lot.\\n',\n",
       " '\\nThis product is everythingIt is easy to use, has great hearing quality and mic quality and a really cool glow to itIt is perfect for pc,ps and XboxAs well as tablets, androids and iPhoneIt has an alright adjustable size and very stable connection between your devices and is multi purposeI 100% recommend u buy it for it is cheap but extremely versatile\\n',\n",
       " \"\\nDecent headset, good microphone.  Didn't have any issues plugging it in, easy set up.The headset does stretch a bit, but doesn't recoil back, so if you stretch expect it to stay that way.The blue light is bright and continued to stay on after the computer was off.  I couldn't even get my phone charged when this computer is off, but the headset milks that energy.  The blue light is bright and will glow in a dark room, so cover it if you like darkness, but if you need a night light, it can fulfill that purpose.Cable twisted up too much.  Eventually, it led to the right ear set wavering off and on depending on how the wires lie.  So, it broke.  Lasted 33 months in total, need a new headset.  Hope this helps\\n\",\n",
       " '\\nGreat bye for the price\\n',\n",
       " '\\nDas Bengoo G9000 Stereo Gaming Headset bietet eine Vielzahl an Funktionen und Ã¼berzeugt mit einem ausgezeichneten Preis-Leistungs-VerhÃ¤ltnis.Sie ist sehr vielseitig und hat ein Mikrofon, das sich einfach stumm schalten lÃ¤sst. Dies ist besonders praktisch, wenn man wÃ¤hrend des Spiels nicht gehÃ¶rt werden mÃ¶chte. Der Preis ist der Hammer, vor allem fÃ¼r die vielen Features, die das Headset bietet.AuÃŸerdem glÃ¤nzt es mit einer schÃ¶nen Optik und einem auffÃ¤lligen Logo, das besonders Kinder begeistert. Jeder wÃ¼rde denken, dass die KopfhÃ¶rer 1000 Euro kosten wÃ¼rden, so hochwertig sehen sie aus.Die LED-Lichter verleihen dem Headset einen zusÃ¤tzlichen coolen Look, der das Spielerlebnis noch intensiver macht. Der Bass-Surround-Sound sorgt fÃ¼r ein immersives HÃ¶rerlebnis, sodass man sich mitten im Spielgeschehen fÃ¼hlt.Die weichen Memory-OhrenschÃ¼tzer bieten hohen Tragekomfort, selbst bei lÃ¤ngeren Spielsitzungen. Die GerÃ¤uschunterdrÃ¼ckung ist ebenfalls sehr effektiv und sorgt dafÃ¼r, dass man sich voll und ganz auf das Spiel konzentrieren kann.Insgesamt bin ich sehr zufrieden mit diesem Headset und kann es jedem empfehlen, der ein hochwertiges und erschwingliches Gaming-Headset sucht.\\n',\n",
       " '\\nAcquisto fatto per mio figlio che le considera ottime. Bene insonorizzate rispetto ai rumori esterni.\\n',\n",
       " '\\nSon comodos, no apretan, se escucha muy bien! El cable es bastante largo, que es lo que necesitaba. Estoy muy contenta!\\n',\n",
       " '\\nparfait\\n']"
      ]
     },
     "execution_count": 16,
     "metadata": {},
     "output_type": "execute_result"
    }
   ],
   "source": [
    "r = requests.get(url)\n",
    "soup = BeautifulSoup(r.text, 'html.parser')\n",
    "regex = re.compile('.*review-text-content.*')\n",
    "results = soup.find_all('div', {'class': regex})\n",
    "reviews = [result.text for result in results]\n",
    "reviews\n"
   ]
  },
  {
   "cell_type": "code",
   "execution_count": 17,
   "id": "77be178c-6bef-48f5-a938-d37c9937c7af",
   "metadata": {},
   "outputs": [
    {
     "name": "stdout",
     "output_type": "stream",
     "text": [
      "As an avid gamer who values both performance and comfort, finding the right gaming headset can make or break the gaming experience. Enter the BENGOO Gaming Headsetâ€”a true contender that has exceeded my expectations in every aspect.Let's start with the most crucial aspect for any gaming headset: sound quality. The BENGOO Gaming Headset delivers immersive, crystal-clear audio that transports you straight into the heart of the action. Whether you're traversing the battlefield in a first-person shooter or immersing yourself in the atmospheric world of a role-playing game, every sound is rendered with remarkable clarity and precision, allowing you to hear even the faintest footsteps of your adversaries.Comfort is another standout feature of the BENGOO Gaming Headset. With its ergonomic design and plush, memory foam ear cushions, it provides hours of gaming comfort without causing discomfort or fatigue. The adjustable headband ensures a perfect fit for heads of all sizes, while the lightweight construction minimizes strain during extended gaming sessionsâ€”ensuring you stay focused and immersed in the game without distractions.But what truly sets the BENGOO Gaming Headset apart is its versatility. Equipped with a detachable noise-canceling microphone, it allows for clear communication with teammates and friends, ensuring seamless coordination during intense multiplayer matches. The microphone's flexibility and adjustability make it easy to position for optimal voice clarity, while the mute function adds convenience during moments when silence is golden.\n"
     ]
    }
   ],
   "source": [
    "pt=  r'\\n(.*?)\\n'\n",
    "\n",
    "extracted_texts = []\n",
    "\n",
    "# Loop through each string in the list\n",
    "for text in reviews:\n",
    "    matches = re.findall(pt,text)\n",
    "    # Add the matches to the extracted_texts list\n",
    "    extracted_texts.extend(matches)\n",
    "\n",
    "print(extracted_texts[1])"
   ]
  },
  {
   "cell_type": "code",
   "execution_count": 18,
   "id": "9bed5aee-e3cd-4c5b-a543-f0abef7044a0",
   "metadata": {},
   "outputs": [
    {
     "data": {
      "text/plain": [
       "(                                               review\n",
       " 0   I got this in a rush when I needed a new heads...\n",
       " 1   As an avid gamer who values both performance a...\n",
       " 2   These are both the best and worst of gaming he...\n",
       " 3   My package arrived on time and undamaged. The ...\n",
       " 4   Honestly these are really good. They are very ...\n",
       " 5   The headphones work pretty good but to have th...\n",
       " 6   This product is everythingIt is easy to use, h...\n",
       " 7   Decent headset, good microphone.  Didn't have ...\n",
       " 8                             Great bye for the price\n",
       " 9   Das Bengoo G9000 Stereo Gaming Headset bietet ...\n",
       " 10  Acquisto fatto per mio figlio che le considera...\n",
       " 11  Son comodos, no apretan, se escucha muy bien! ...\n",
       " 12                                            parfait,\n",
       " (13, 1))"
      ]
     },
     "execution_count": 18,
     "metadata": {},
     "output_type": "execute_result"
    }
   ],
   "source": [
    "df = pd.DataFrame(np.array(extracted_texts), columns=['review'])\n",
    "df,df.shape"
   ]
  },
  {
   "cell_type": "code",
   "execution_count": 19,
   "id": "b6a64de6-183e-4bed-9e5b-c9413a0a1cee",
   "metadata": {},
   "outputs": [],
   "source": [
    "def sentiment_score(review):\n",
    "    tokens = tokenizer.encode(review, return_tensors='pt')\n",
    "    result = model(tokens)\n",
    "    return int(torch.argmax(result.logits))+1"
   ]
  },
  {
   "cell_type": "code",
   "execution_count": 20,
   "id": "e833d134-1153-4dbe-9230-d73ceafc26e5",
   "metadata": {},
   "outputs": [
    {
     "data": {
      "text/html": [
       "<div>\n",
       "<style scoped>\n",
       "    .dataframe tbody tr th:only-of-type {\n",
       "        vertical-align: middle;\n",
       "    }\n",
       "\n",
       "    .dataframe tbody tr th {\n",
       "        vertical-align: top;\n",
       "    }\n",
       "\n",
       "    .dataframe thead th {\n",
       "        text-align: right;\n",
       "    }\n",
       "</style>\n",
       "<table border=\"1\" class=\"dataframe\">\n",
       "  <thead>\n",
       "    <tr style=\"text-align: right;\">\n",
       "      <th></th>\n",
       "      <th>review</th>\n",
       "      <th>sentiment</th>\n",
       "    </tr>\n",
       "  </thead>\n",
       "  <tbody>\n",
       "    <tr>\n",
       "      <th>0</th>\n",
       "      <td>I got this in a rush when I needed a new heads...</td>\n",
       "      <td>3</td>\n",
       "    </tr>\n",
       "    <tr>\n",
       "      <th>1</th>\n",
       "      <td>As an avid gamer who values both performance a...</td>\n",
       "      <td>5</td>\n",
       "    </tr>\n",
       "    <tr>\n",
       "      <th>2</th>\n",
       "      <td>These are both the best and worst of gaming he...</td>\n",
       "      <td>2</td>\n",
       "    </tr>\n",
       "    <tr>\n",
       "      <th>3</th>\n",
       "      <td>My package arrived on time and undamaged. The ...</td>\n",
       "      <td>4</td>\n",
       "    </tr>\n",
       "    <tr>\n",
       "      <th>4</th>\n",
       "      <td>Honestly these are really good. They are very ...</td>\n",
       "      <td>5</td>\n",
       "    </tr>\n",
       "    <tr>\n",
       "      <th>5</th>\n",
       "      <td>The headphones work pretty good but to have th...</td>\n",
       "      <td>3</td>\n",
       "    </tr>\n",
       "    <tr>\n",
       "      <th>6</th>\n",
       "      <td>This product is everythingIt is easy to use, h...</td>\n",
       "      <td>5</td>\n",
       "    </tr>\n",
       "    <tr>\n",
       "      <th>7</th>\n",
       "      <td>Decent headset, good microphone.  Didn't have ...</td>\n",
       "      <td>4</td>\n",
       "    </tr>\n",
       "    <tr>\n",
       "      <th>8</th>\n",
       "      <td>Great bye for the price</td>\n",
       "      <td>5</td>\n",
       "    </tr>\n",
       "    <tr>\n",
       "      <th>9</th>\n",
       "      <td>Das Bengoo G9000 Stereo Gaming Headset bietet ...</td>\n",
       "      <td>5</td>\n",
       "    </tr>\n",
       "    <tr>\n",
       "      <th>10</th>\n",
       "      <td>Acquisto fatto per mio figlio che le considera...</td>\n",
       "      <td>5</td>\n",
       "    </tr>\n",
       "    <tr>\n",
       "      <th>11</th>\n",
       "      <td>Son comodos, no apretan, se escucha muy bien! ...</td>\n",
       "      <td>5</td>\n",
       "    </tr>\n",
       "    <tr>\n",
       "      <th>12</th>\n",
       "      <td>parfait</td>\n",
       "      <td>5</td>\n",
       "    </tr>\n",
       "  </tbody>\n",
       "</table>\n",
       "</div>"
      ],
      "text/plain": [
       "                                               review  sentiment\n",
       "0   I got this in a rush when I needed a new heads...          3\n",
       "1   As an avid gamer who values both performance a...          5\n",
       "2   These are both the best and worst of gaming he...          2\n",
       "3   My package arrived on time and undamaged. The ...          4\n",
       "4   Honestly these are really good. They are very ...          5\n",
       "5   The headphones work pretty good but to have th...          3\n",
       "6   This product is everythingIt is easy to use, h...          5\n",
       "7   Decent headset, good microphone.  Didn't have ...          4\n",
       "8                             Great bye for the price          5\n",
       "9   Das Bengoo G9000 Stereo Gaming Headset bietet ...          5\n",
       "10  Acquisto fatto per mio figlio che le considera...          5\n",
       "11  Son comodos, no apretan, se escucha muy bien! ...          5\n",
       "12                                            parfait          5"
      ]
     },
     "execution_count": 20,
     "metadata": {},
     "output_type": "execute_result"
    }
   ],
   "source": [
    "df['sentiment'] = df['review'].apply(lambda x: sentiment_score(x[:512]))\n",
    "df"
   ]
  },
  {
   "cell_type": "code",
   "execution_count": 22,
   "id": "3a246b75-9362-469c-beab-439a9f02527f",
   "metadata": {},
   "outputs": [
    {
     "data": {
      "text/plain": [
       "'These are both the best and worst of gaming headphones. I have bought a lot of headphones over the years and these have the best sound quality for gaming I have experienced - even on a budget. Great balance of bass and treble - nice great frequency range and sensitivity. You will get both the bass in music but also hear light footsteps.I am actually on my 3rd set if these headphones. The headphones seem to last for sound output. But the mic ALWAYS breaks. My last one broke after a few months of usage. Not sure why it is but it is always the Mic that goes.But if you are reading this and are a minority, you know how toxic the gaming community is. Give W/M anonymity and freedom from restraint and itâ€™s gonna get ugly.  Muting everyone and having a broken mic can be healthy too. Just kinda sucks when playing with RL friends.'"
      ]
     },
     "execution_count": 22,
     "metadata": {},
     "output_type": "execute_result"
    }
   ],
   "source": [
    "df['review'].iloc[2]"
   ]
  },
  {
   "cell_type": "code",
   "execution_count": 23,
   "id": "57f531da-e594-4956-91b9-e0892dce4114",
   "metadata": {},
   "outputs": [
    {
     "data": {
      "image/png": "[encoded data removed]",
      "text/plain": [
       "<Figure size 1000x600 with 1 Axes>"
      ]
     },
     "metadata": {},
     "output_type": "display_data"
    }
   ],
   "source": [
    "# Set the style of seaborn\n",
    "sns.set(style=\"whitegrid\")\n",
    "\n",
    "# Create the count plot\n",
    "plt.figure(figsize=(10, 6))\n",
    "sns.countplot(x='sentiment', data=df, palette='viridis')\n",
    "\n",
    "# Add title and labels\n",
    "plt.title('Distribution of Reviews by Rating', fontsize=16)\n",
    "plt.xlabel('Rating', fontsize=14)\n",
    "plt.ylabel('Number of Reviews', fontsize=14)\n",
    "\n",
    "# Show the plot\n",
    "plt.show()"
   ]
  }
 ],
 "metadata": {
  "kernelspec": {
   "display_name": "Python 3 (ipykernel)",
   "language": "python",
   "name": "python3"
  },
  "language_info": {
   "codemirror_mode": {
    "name": "ipython",
    "version": 3
   },
   "file_extension": ".py",
   "mimetype": "text/x-python",
   "name": "python",
   "nbconvert_exporter": "python",
   "pygments_lexer": "ipython3",
   "version": "3.9.19"
  }
 },
 "nbformat": 4,
 "nbformat_minor": 5
}
